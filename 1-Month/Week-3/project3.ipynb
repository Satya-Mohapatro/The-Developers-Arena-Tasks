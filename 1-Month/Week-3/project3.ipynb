{
 "cells": [
  {
   "cell_type": "code",
   "execution_count": 1,
   "id": "930b9946",
   "metadata": {},
   "outputs": [],
   "source": [
    "import numpy as np\n",
    "import pandas as pd"
   ]
  },
  {
   "cell_type": "code",
   "execution_count": 2,
   "id": "aa3415e9",
   "metadata": {},
   "outputs": [],
   "source": [
    "data ={\n",
    "    'Name': ['Alice', 'Bob', 'Charlie', 'David','Priya',None],\n",
    "    'Marks': [85, 90,None, 78, 88, 92],\n",
    "    'Age': [20, 21, 19, 22, None, 23],\n",
    "    'City': ['New York', 'Los Angeles', 'Chicago', 'Houston', 'Phoenix', 'San Francisco']\n",
    "}"
   ]
  },
  {
   "cell_type": "code",
   "execution_count": 3,
   "id": "efce5652",
   "metadata": {},
   "outputs": [],
   "source": [
    "df = pd.DataFrame(data)"
   ]
  },
  {
   "cell_type": "code",
   "execution_count": 7,
   "id": "653fda28",
   "metadata": {},
   "outputs": [
    {
     "data": {
      "text/html": [
       "<div>\n",
       "<style scoped>\n",
       "    .dataframe tbody tr th:only-of-type {\n",
       "        vertical-align: middle;\n",
       "    }\n",
       "\n",
       "    .dataframe tbody tr th {\n",
       "        vertical-align: top;\n",
       "    }\n",
       "\n",
       "    .dataframe thead th {\n",
       "        text-align: right;\n",
       "    }\n",
       "</style>\n",
       "<table border=\"1\" class=\"dataframe\">\n",
       "  <thead>\n",
       "    <tr style=\"text-align: right;\">\n",
       "      <th></th>\n",
       "      <th>Name</th>\n",
       "      <th>Marks</th>\n",
       "      <th>Age</th>\n",
       "      <th>City</th>\n",
       "    </tr>\n",
       "  </thead>\n",
       "  <tbody>\n",
       "    <tr>\n",
       "      <th>0</th>\n",
       "      <td>Alice</td>\n",
       "      <td>85.0</td>\n",
       "      <td>20.0</td>\n",
       "      <td>New York</td>\n",
       "    </tr>\n",
       "    <tr>\n",
       "      <th>1</th>\n",
       "      <td>Bob</td>\n",
       "      <td>90.0</td>\n",
       "      <td>21.0</td>\n",
       "      <td>Los Angeles</td>\n",
       "    </tr>\n",
       "    <tr>\n",
       "      <th>2</th>\n",
       "      <td>Charlie</td>\n",
       "      <td>NaN</td>\n",
       "      <td>19.0</td>\n",
       "      <td>Chicago</td>\n",
       "    </tr>\n",
       "    <tr>\n",
       "      <th>3</th>\n",
       "      <td>David</td>\n",
       "      <td>78.0</td>\n",
       "      <td>22.0</td>\n",
       "      <td>Houston</td>\n",
       "    </tr>\n",
       "    <tr>\n",
       "      <th>4</th>\n",
       "      <td>Priya</td>\n",
       "      <td>88.0</td>\n",
       "      <td>NaN</td>\n",
       "      <td>Phoenix</td>\n",
       "    </tr>\n",
       "    <tr>\n",
       "      <th>5</th>\n",
       "      <td>None</td>\n",
       "      <td>92.0</td>\n",
       "      <td>23.0</td>\n",
       "      <td>San Francisco</td>\n",
       "    </tr>\n",
       "  </tbody>\n",
       "</table>\n",
       "</div>"
      ],
      "text/plain": [
       "      Name  Marks   Age           City\n",
       "0    Alice   85.0  20.0       New York\n",
       "1      Bob   90.0  21.0    Los Angeles\n",
       "2  Charlie    NaN  19.0        Chicago\n",
       "3    David   78.0  22.0        Houston\n",
       "4    Priya   88.0   NaN        Phoenix\n",
       "5     None   92.0  23.0  San Francisco"
      ]
     },
     "execution_count": 7,
     "metadata": {},
     "output_type": "execute_result"
    }
   ],
   "source": [
    "df.head(6)"
   ]
  },
  {
   "cell_type": "code",
   "execution_count": 8,
   "id": "4515e59b",
   "metadata": {},
   "outputs": [
    {
     "name": "stdout",
     "output_type": "stream",
     "text": [
      "Original Data:\n",
      "       Name  Marks   Age           City\n",
      "0    Alice   85.0  20.0       New York\n",
      "1      Bob   90.0  21.0    Los Angeles\n",
      "2  Charlie    NaN  19.0        Chicago\n",
      "3    David   78.0  22.0        Houston\n",
      "4    Priya   88.0   NaN        Phoenix\n",
      "5     None   92.0  23.0  San Francisco\n"
     ]
    }
   ],
   "source": [
    "print(\"Original Data:\\n\", df)"
   ]
  },
  {
   "cell_type": "code",
   "execution_count": 9,
   "id": "ccebddaf",
   "metadata": {},
   "outputs": [],
   "source": [
    "df_clean = df.dropna()"
   ]
  },
  {
   "cell_type": "code",
   "execution_count": 10,
   "id": "af2fd47f",
   "metadata": {},
   "outputs": [
    {
     "name": "stdout",
     "output_type": "stream",
     "text": [
      "\n",
      "After Removing Missing Values:\n",
      "     Name  Marks   Age         City\n",
      "0  Alice   85.0  20.0     New York\n",
      "1    Bob   90.0  21.0  Los Angeles\n",
      "3  David   78.0  22.0      Houston\n"
     ]
    }
   ],
   "source": [
    "print(\"\\nAfter Removing Missing Values:\\n\", df_clean)"
   ]
  },
  {
   "cell_type": "code",
   "execution_count": 12,
   "id": "487893a8",
   "metadata": {},
   "outputs": [
    {
     "name": "stdout",
     "output_type": "stream",
     "text": [
      "\n",
      "Average Marks: 84.33333333333333\n"
     ]
    }
   ],
   "source": [
    "avg_marks = df_clean['Marks'].mean()\n",
    "print(\"\\nAverage Marks:\", avg_marks)"
   ]
  },
  {
   "cell_type": "code",
   "execution_count": 15,
   "id": "9375f9a6",
   "metadata": {},
   "outputs": [
    {
     "name": "stdout",
     "output_type": "stream",
     "text": [
      "\n",
      "Grouped Data by City:\n",
      "              Average_Marks  Count\n",
      "City                             \n",
      "Houston               78.0      1\n",
      "Los Angeles           90.0      1\n",
      "New York              85.0      1\n"
     ]
    }
   ],
   "source": [
    "grouped_data = df_clean.groupby('City').agg(\n",
    "    Average_Marks=('Marks', 'mean'),\n",
    "    Count=('Name', 'count')\n",
    ")\n",
    "print(\"\\nGrouped Data by City:\\n\", grouped_data)"
   ]
  }
 ],
 "metadata": {
  "kernelspec": {
   "display_name": "Python 3",
   "language": "python",
   "name": "python3"
  },
  "language_info": {
   "codemirror_mode": {
    "name": "ipython",
    "version": 3
   },
   "file_extension": ".py",
   "mimetype": "text/x-python",
   "name": "python",
   "nbconvert_exporter": "python",
   "pygments_lexer": "ipython3",
   "version": "3.12.4"
  }
 },
 "nbformat": 4,
 "nbformat_minor": 5
}
