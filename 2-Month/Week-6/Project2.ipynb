{
 "cells": [
  {
   "cell_type": "markdown",
   "id": "d23cbc0c",
   "metadata": {},
   "source": [
    "### Client Project: Compare Two Business Strategies (A/B)"
   ]
  },
  {
   "cell_type": "code",
   "execution_count": 1,
   "id": "e2ee0263",
   "metadata": {},
   "outputs": [],
   "source": [
    "import numpy as np\n",
    "import pandas as pd\n",
    "from sklearn.datasets import load_breast_cancer\n",
    "from scipy import stats"
   ]
  },
  {
   "cell_type": "code",
   "execution_count": 2,
   "id": "69db5dcf",
   "metadata": {},
   "outputs": [],
   "source": [
    "data = load_breast_cancer(as_frame=True)\n",
    "df = data.frame"
   ]
  },
  {
   "cell_type": "code",
   "execution_count": 3,
   "id": "1935ea6f",
   "metadata": {},
   "outputs": [],
   "source": [
    "kpi = df[\"mean radius\"].to_numpy()"
   ]
  },
  {
   "cell_type": "markdown",
   "id": "ec866965",
   "metadata": {},
   "source": [
    "Simulate two business strategies (A vs B)"
   ]
  },
  {
   "cell_type": "code",
   "execution_count": 4,
   "id": "e9d0e26c",
   "metadata": {},
   "outputs": [
    {
     "name": "stdout",
     "output_type": "stream",
     "text": [
      "Strategy A sample size: 275\n",
      "Strategy B sample size: 294\n"
     ]
    }
   ],
   "source": [
    "np.random.seed(42)  # reproducibility\n",
    "n = len(kpi)\n",
    "mask = np.random.choice([0, 1], size=n)  # random split into 2 groups\n",
    "\n",
    "A = kpi[mask == 0]\n",
    "B = kpi[mask == 1]\n",
    "\n",
    "print(f\"Strategy A sample size: {len(A)}\")\n",
    "print(f\"Strategy B sample size: {len(B)}\")"
   ]
  },
  {
   "cell_type": "markdown",
   "id": "c973d520",
   "metadata": {},
   "source": [
    "Perform Welch's t-test"
   ]
  },
  {
   "cell_type": "code",
   "execution_count": 5,
   "id": "cc53444b",
   "metadata": {},
   "outputs": [],
   "source": [
    "t_stat, p_val = stats.ttest_ind(A, B, equal_var=False)\n",
    "\n",
    "# 95% CI for difference in means\n",
    "def diff_means_ci(a, b, confidence=0.95):\n",
    "    a, b = np.asarray(a), np.asarray(b)\n",
    "    na, nb = len(a), len(b)\n",
    "    ma, mb = a.mean(), b.mean()\n",
    "    sa2, sb2 = a.var(ddof=1), b.var(ddof=1)\n",
    "    se = np.sqrt(sa2/na + sb2/nb)\n",
    "    df = (sa2/na + sb2/nb)**2 / ((sa2**2)/((na**2)*(na-1)) + (sb2**2)/((nb**2)*(nb-1)))\n",
    "    alpha = 1 - confidence\n",
    "    tcrit = stats.t.ppf(1 - alpha/2, df=df)\n",
    "    diff = mb - ma\n",
    "    return diff - tcrit*se, diff + tcrit*se, diff\n",
    "\n",
    "ci_lo, ci_hi, diff = diff_means_ci(A, B)"
   ]
  },
  {
   "cell_type": "code",
   "execution_count": 6,
   "id": "88787cbe",
   "metadata": {},
   "outputs": [],
   "source": [
    "# Effect size (Cohen's d)\n",
    "def cohens_d_welch(a, b):\n",
    "    sa2, sb2 = a.var(ddof=1), b.var(ddof=1)\n",
    "    sp = np.sqrt((sa2 + sb2)/2)\n",
    "    return (b.mean() - a.mean()) / sp\n",
    "\n",
    "d = cohens_d_welch(A, B)"
   ]
  },
  {
   "cell_type": "markdown",
   "id": "89a8c692",
   "metadata": {},
   "source": [
    "Print Report"
   ]
  },
  {
   "cell_type": "code",
   "execution_count": 7,
   "id": "a23ab8cf",
   "metadata": {},
   "outputs": [
    {
     "name": "stdout",
     "output_type": "stream",
     "text": [
      "\n",
      "===== Statistical Analysis Report =====\n",
      "Strategy A mean KPI: 14.059 (n=275)\n",
      "Strategy B mean KPI: 14.191 (n=294)\n",
      "Mean difference (B - A): 0.132\n",
      "95% CI for difference: [-0.450, 0.714]\n",
      "Welch t-test: t=-0.446, p=0.6556\n",
      "Cohen's d (effect size): 0.037\n",
      "======================================\n"
     ]
    }
   ],
   "source": [
    "print(\"\\n===== Statistical Analysis Report =====\")\n",
    "print(f\"Strategy A mean KPI: {A.mean():.3f} (n={len(A)})\")\n",
    "print(f\"Strategy B mean KPI: {B.mean():.3f} (n={len(B)})\")\n",
    "print(f\"Mean difference (B - A): {diff:.3f}\")\n",
    "print(f\"95% CI for difference: [{ci_lo:.3f}, {ci_hi:.3f}]\")\n",
    "print(f\"Welch t-test: t={t_stat:.3f}, p={p_val:.4f}\")\n",
    "print(f\"Cohen's d (effect size): {d:.3f}\")\n",
    "print(\"======================================\")"
   ]
  }
 ],
 "metadata": {
  "kernelspec": {
   "display_name": "Python 3",
   "language": "python",
   "name": "python3"
  },
  "language_info": {
   "codemirror_mode": {
    "name": "ipython",
    "version": 3
   },
   "file_extension": ".py",
   "mimetype": "text/x-python",
   "name": "python",
   "nbconvert_exporter": "python",
   "pygments_lexer": "ipython3",
   "version": "3.12.4"
  }
 },
 "nbformat": 4,
 "nbformat_minor": 5
}
